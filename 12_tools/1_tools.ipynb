{
 "cells": [
  {
   "cell_type": "markdown",
   "id": "66c33a79",
   "metadata": {},
   "source": [
    "## DuckDuckGo-Search Tool"
   ]
  },
  {
   "cell_type": "code",
   "execution_count": 5,
   "id": "d1c9b68e",
   "metadata": {},
   "outputs": [
    {
     "name": "stderr",
     "output_type": "stream",
     "text": [
      "d:\\Gen AI\\LangChain\\venv\\Lib\\site-packages\\langchain_community\\utilities\\duckduckgo_search.py:63: RuntimeWarning: This package (`duckduckgo_search`) has been renamed to `ddgs`! Use `pip install ddgs` instead.\n",
      "  with DDGS() as ddgs:\n"
     ]
    },
    {
     "name": "stdout",
     "output_type": "stream",
     "text": [
      "1 day ago · Latest news headlines from India & around the world. Check out today’s news coverage live with videos & photos on NDTV.com. 3 days ago · Latest News Today: Read latest and breaking news from India and across the world. Explore more for current news, premium and WSJ news, business news on Mint. 4 days ago · Get the latest breaking news from India covering politics, economy, social issues, technology, sports, and more. Stay updated with in-depth analysis and top headlines from … Feb 24, 2025 · Top news of the day: Internet shutdowns highest in 2024 globally, India tops in government-ordered curbs; Indian Navy’s MARCOS join rescue operations at Telangana … 16 hours ago · Top News of the Day: Election Commission eases document submission rules ahead of Bihar polls; SC administration writes to Centre to vacate ex-CJI Chandrachud from …\n"
     ]
    }
   ],
   "source": [
    "from langchain_community.tools import DuckDuckGoSearchRun\n",
    "\n",
    "search_tool = DuckDuckGoSearchRun()\n",
    "\n",
    "results = search_tool.invoke(\"top news in India today\")\n",
    "\n",
    "print(results)"
   ]
  },
  {
   "cell_type": "code",
   "execution_count": 6,
   "id": "21ff0578",
   "metadata": {},
   "outputs": [
    {
     "name": "stdout",
     "output_type": "stream",
     "text": [
      "duckduckgo_search\n",
      "A wrapper around DuckDuckGo Search. Useful for when you need to answer questions about current events. Input should be a search query.\n",
      "{'query': {'description': 'search query to look up', 'title': 'Query', 'type': 'string'}}\n"
     ]
    }
   ],
   "source": [
    "\n",
    "print(search_tool.name)\n",
    "print(search_tool.description)\n",
    "print(search_tool.args)"
   ]
  },
  {
   "cell_type": "code",
   "execution_count": 7,
   "id": "922ec2ef",
   "metadata": {},
   "outputs": [
    {
     "name": "stderr",
     "output_type": "stream",
     "text": [
      "d:\\Gen AI\\LangChain\\venv\\Lib\\site-packages\\langchain_community\\utilities\\duckduckgo_search.py:63: RuntimeWarning: This package (`duckduckgo_search`) has been renamed to `ddgs`! Use `pip install ddgs` instead.\n",
      "  with DDGS() as ddgs:\n"
     ]
    },
    {
     "name": "stdout",
     "output_type": "stream",
     "text": [
      "snippet: 1 day ago · Stay Up-to-date with Top news in India, current headlines, photos & videos online, live coverage on …, title: India News: Latest News India, Today Breaking News Headline…, link: https://indianexpress.com/section/india/, snippet: 1 day ago · Today's top India news headlines, news on Indian …, title: India News | Today's latest updates and breaking news fro…, link: https://www.ndtv.com/india, snippet: 1 day ago · Read all India news and breaking news today from India on politics, business, entertainment, technology, sports, lifestyle and more at CNBC TV18., title: India News, India News Live and Top Breaking News Today | CN…, link: https://www.cnbctv18.com/india/, snippet: 1 day ago · Latest news headlines from India & around the world. Check out today’s news coverage live with videos …, title: Latest News: Today's big news headlines from India and aroun…, link: https://www.ndtv.com/latest\n"
     ]
    }
   ],
   "source": [
    "# for more additional information\n",
    "from langchain_community.tools import DuckDuckGoSearchResults\n",
    "\n",
    "search_tool = DuckDuckGoSearchResults()\n",
    "\n",
    "print(search_tool.invoke(\"top news in India today\"))"
   ]
  },
  {
   "cell_type": "code",
   "execution_count": 9,
   "id": "f94455f3",
   "metadata": {},
   "outputs": [
    {
     "name": "stderr",
     "output_type": "stream",
     "text": [
      "d:\\Gen AI\\LangChain\\venv\\Lib\\site-packages\\langchain_community\\utilities\\duckduckgo_search.py:63: RuntimeWarning: This package (`duckduckgo_search`) has been renamed to `ddgs`! Use `pip install ddgs` instead.\n",
      "  with DDGS() as ddgs:\n"
     ]
    },
    {
     "name": "stdout",
     "output_type": "stream",
     "text": [
      "[{'snippet': '1 day ago · Latest news headlines from India & around the world. Check out today’s news coverage live with videos & photos on NDTV.com.', 'title': \"Latest News: Today's big news headlines from India and around …\", 'link': 'https://www.ndtv.com/latest'}, {'snippet': '4 days ago · Get the latest breaking news from India covering politics, economy, social issues, technology, sports, and more. Stay updated with in-depth analysis and top headlines from …', 'title': 'Latest India News: Breaking News, Politics, Economy, and More', 'link': 'https://www.fortuneindia.com/india'}, {'snippet': '3 days ago · India News: Read latest India News, breaking news from India on Politics, Business, Current Affairs, Banks, Companies and Education at Mint.', 'title': 'India News: Latest India News Today, India Breaking News Live …', 'link': 'https://www.livemint.com/news/india'}, {'snippet': 'Feb 24, 2025 · Top news of the day: Internet shutdowns highest in 2024 globally, India tops in government-ordered curbs; Indian Navy’s MARCOS join rescue operations at Telangana …', 'title': 'The major news headlines of the day and more. - The Hindu', 'link': 'https://www.thehindu.com/news/top-news-from-the-hindu-24-02-2025/article69258282.ece'}]\n"
     ]
    }
   ],
   "source": [
    "search_tool = DuckDuckGoSearchResults(output_format=\"list\", source=\"news\")\n",
    "print(search_tool.invoke(\"top news in India today\"))"
   ]
  },
  {
   "cell_type": "markdown",
   "id": "f24f1b95",
   "metadata": {},
   "source": [
    "## Shell Tool"
   ]
  },
  {
   "cell_type": "code",
   "execution_count": 11,
   "id": "213a2bb5",
   "metadata": {},
   "outputs": [
    {
     "name": "stdout",
     "output_type": "stream",
     "text": [
      "Executing command:\n",
      " whoami\n",
      "bharath\\bhara\n",
      "\n"
     ]
    },
    {
     "name": "stderr",
     "output_type": "stream",
     "text": [
      "d:\\Gen AI\\LangChain\\venv\\Lib\\site-packages\\langchain_community\\tools\\shell\\tool.py:33: UserWarning: The shell tool has no safeguards by default. Use at your own risk.\n",
      "  warnings.warn(\n"
     ]
    }
   ],
   "source": [
    "from langchain_community.tools import ShellTool\n",
    "\n",
    "shell_tool = ShellTool()\n",
    "\n",
    "print(shell_tool.invoke(\"whoami\"))"
   ]
  },
  {
   "cell_type": "markdown",
   "id": "d82ee25d",
   "metadata": {},
   "source": [
    "## Custom Tools"
   ]
  },
  {
   "cell_type": "markdown",
   "id": "5f585e78",
   "metadata": {},
   "source": [
    "### using @tool decorator"
   ]
  },
  {
   "cell_type": "code",
   "execution_count": 12,
   "id": "af3fcc04",
   "metadata": {},
   "outputs": [],
   "source": [
    "from langchain_core.tools import tool"
   ]
  },
  {
   "cell_type": "code",
   "execution_count": 13,
   "id": "fd9a4342",
   "metadata": {},
   "outputs": [],
   "source": [
    "@tool\n",
    "def multiply(a:int, b:int) -> int:\n",
    "    \"\"\"Multiply two numbers\"\"\"\n",
    "    return a*b"
   ]
  },
  {
   "cell_type": "code",
   "execution_count": 14,
   "id": "ce4f28a9",
   "metadata": {},
   "outputs": [
    {
     "name": "stdout",
     "output_type": "stream",
     "text": [
      "multiply\n",
      "Multiply two numbers\n",
      "{'a': {'title': 'A', 'type': 'integer'}, 'b': {'title': 'B', 'type': 'integer'}}\n"
     ]
    }
   ],
   "source": [
    "print(multiply.name)\n",
    "print(multiply.description)\n",
    "print(multiply.args)"
   ]
  },
  {
   "cell_type": "code",
   "execution_count": 15,
   "id": "f6228049",
   "metadata": {},
   "outputs": [
    {
     "name": "stdout",
     "output_type": "stream",
     "text": [
      "6\n"
     ]
    }
   ],
   "source": [
    "print(multiply.invoke({\"a\":2, \"b\": \"3\"}))"
   ]
  },
  {
   "cell_type": "code",
   "execution_count": null,
   "id": "641aac16",
   "metadata": {},
   "outputs": [
    {
     "name": "stdout",
     "output_type": "stream",
     "text": [
      "{'description': 'Multiply two numbers', 'properties': {'a': {'title': 'A', 'type': 'integer'}, 'b': {'title': 'B', 'type': 'integer'}}, 'required': ['a', 'b'], 'title': 'multiply', 'type': 'object'}\n"
     ]
    }
   ],
   "source": [
    "print(multiply.args_schema.model_json_schema()) # this is how it goes to model"
   ]
  },
  {
   "cell_type": "markdown",
   "id": "f75e4f5b",
   "metadata": {},
   "source": [
    "### using StructuredTool and pydantic"
   ]
  },
  {
   "cell_type": "code",
   "execution_count": 17,
   "id": "92010716",
   "metadata": {},
   "outputs": [],
   "source": [
    "from langchain_core.tools import StructuredTool\n",
    "from pydantic import BaseModel, Field"
   ]
  },
  {
   "cell_type": "code",
   "execution_count": 24,
   "id": "b83e3341",
   "metadata": {},
   "outputs": [],
   "source": [
    "class MultiplytInput(BaseModel):\n",
    "    a: int = Field(description=\"The first number to multiply\", json_schema_extra={\"required\": True})\n",
    "    b: int = Field(description=\"The second number to multiply\", json_schema_extra={\"required\":True})"
   ]
  },
  {
   "cell_type": "code",
   "execution_count": 23,
   "id": "852473b7",
   "metadata": {},
   "outputs": [],
   "source": [
    "def multiply(a: int, b: int) -> int:\n",
    "    return a*b"
   ]
  },
  {
   "cell_type": "code",
   "execution_count": 25,
   "id": "213df9c7",
   "metadata": {},
   "outputs": [],
   "source": [
    "multiply_tool = StructuredTool.from_function(\n",
    "    func=multiply,\n",
    "    name=\"multiply\",\n",
    "    description=\"Multiply two numbers\",\n",
    "    args_schema=MultiplytInput\n",
    ")"
   ]
  },
  {
   "cell_type": "code",
   "execution_count": 26,
   "id": "84ffc67b",
   "metadata": {},
   "outputs": [
    {
     "name": "stdout",
     "output_type": "stream",
     "text": [
      "multiply\n",
      "Multiply two numbers\n",
      "<class '__main__.MultiplytInput'>\n"
     ]
    }
   ],
   "source": [
    "print(multiply_tool.name)\n",
    "print(multiply_tool.description)\n",
    "print(multiply_tool.args_schema)"
   ]
  },
  {
   "cell_type": "code",
   "execution_count": 28,
   "id": "ee11f3e0",
   "metadata": {},
   "outputs": [
    {
     "name": "stdout",
     "output_type": "stream",
     "text": [
      "6\n"
     ]
    }
   ],
   "source": [
    "print(multiply_tool.invoke({\"a\": 2, \"b\": \"3\"}))"
   ]
  },
  {
   "cell_type": "markdown",
   "id": "e42d4e98",
   "metadata": {},
   "source": [
    "### Using BaseTool class"
   ]
  },
  {
   "cell_type": "code",
   "execution_count": 29,
   "id": "d9e5409c",
   "metadata": {},
   "outputs": [],
   "source": [
    "from langchain_core.tools import BaseTool\n",
    "from typing import Type"
   ]
  },
  {
   "cell_type": "code",
   "execution_count": 30,
   "id": "3467bb14",
   "metadata": {},
   "outputs": [],
   "source": [
    "# args schema using pydantic\n",
    "class MultiplytInput(BaseModel):\n",
    "    a: int = Field(description=\"First number to multiply\", json_schema_extra={\"required\": True})\n",
    "    b: int = Field(description=\"Second number to multiply\", json_schema_extra={\"required\": True})"
   ]
  },
  {
   "cell_type": "code",
   "execution_count": null,
   "id": "21855a97",
   "metadata": {},
   "outputs": [],
   "source": [
    "class MultiplyTool(BaseTool):\n",
    "    name: str = \"multiply\"\n",
    "    description: str = \"Multiply two numbers\"\n",
    "    args_schema: Type[BaseModel] = MultiplytInput\n",
    "    \n",
    "    def _run(self, a: int, b: int) -> int: # function name must be same  _run\n",
    "        return a * b"
   ]
  },
  {
   "cell_type": "code",
   "execution_count": 32,
   "id": "acef9bb7",
   "metadata": {},
   "outputs": [
    {
     "name": "stdout",
     "output_type": "stream",
     "text": [
      "multiply\n",
      "Multiply two numbers\n",
      "<class '__main__.MultiplytInput'>\n"
     ]
    }
   ],
   "source": [
    "multiply_tool = MultiplyTool()\n",
    "\n",
    "print(multiply_tool.name)\n",
    "print(multiply_tool.description)\n",
    "print(multiply_tool.args_schema)"
   ]
  },
  {
   "cell_type": "code",
   "execution_count": 33,
   "id": "0bcadc9d",
   "metadata": {},
   "outputs": [
    {
     "name": "stdout",
     "output_type": "stream",
     "text": [
      "6\n"
     ]
    }
   ],
   "source": [
    "print(multiply_tool.invoke({\"a\": 2, \"b\": \"3\"}))"
   ]
  },
  {
   "cell_type": "markdown",
   "id": "c1a030f7",
   "metadata": {},
   "source": [
    "## Custom Toolkit"
   ]
  },
  {
   "cell_type": "code",
   "execution_count": 35,
   "id": "f17cbeef",
   "metadata": {},
   "outputs": [],
   "source": [
    "@tool\n",
    "def multiply(a: int, b: int) -> int:\n",
    "    \"\"\"Multiplies two numbers\"\"\"\n",
    "    return a * b\n",
    "\n",
    "@tool\n",
    "def add(a: int, b: int) -> int:\n",
    "    \"\"\"Adds two numbers\"\"\"\n",
    "    return a + b "
   ]
  },
  {
   "cell_type": "code",
   "execution_count": 36,
   "id": "2ad7e5af",
   "metadata": {},
   "outputs": [],
   "source": [
    "class MathToolkit:\n",
    "    def get_tools(self):\n",
    "        return [add, multiply]"
   ]
  },
  {
   "cell_type": "code",
   "execution_count": 37,
   "id": "408fd20b",
   "metadata": {},
   "outputs": [
    {
     "name": "stdout",
     "output_type": "stream",
     "text": [
      "add -> Adds two numbers\n",
      "multiply -> Multiplies two numbers\n"
     ]
    }
   ],
   "source": [
    "toolkit = MathToolkit()\n",
    "tools = toolkit.get_tools()\n",
    "\n",
    "for t in tools:\n",
    "    print(t.name, \"->\", t.description)"
   ]
  }
 ],
 "metadata": {
  "kernelspec": {
   "display_name": "venv",
   "language": "python",
   "name": "python3"
  },
  "language_info": {
   "codemirror_mode": {
    "name": "ipython",
    "version": 3
   },
   "file_extension": ".py",
   "mimetype": "text/x-python",
   "name": "python",
   "nbconvert_exporter": "python",
   "pygments_lexer": "ipython3",
   "version": "3.13.5"
  }
 },
 "nbformat": 4,
 "nbformat_minor": 5
}
