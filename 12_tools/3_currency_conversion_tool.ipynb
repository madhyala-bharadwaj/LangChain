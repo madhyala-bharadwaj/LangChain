{
 "cells": [
  {
   "cell_type": "code",
   "execution_count": null,
   "id": "9ecce6f3",
   "metadata": {},
   "outputs": [],
   "source": [
    "from langchain_core.tools import tool, InjectedToolArg\n",
    "import requests\n",
    "from typing import Annotated"
   ]
  },
  {
   "cell_type": "markdown",
   "id": "fa117257",
   "metadata": {},
   "source": [
    "### Tool Creation"
   ]
  },
  {
   "cell_type": "code",
   "execution_count": 2,
   "id": "d8b945f1",
   "metadata": {},
   "outputs": [],
   "source": [
    "@tool\n",
    "def get_conversion_factor(base_currency: str, target_currency: str) -> float:\n",
    "    \"\"\"This function fetchs the currency conversion factor between a given base currency and a target currency\"\"\"\n",
    "    url = f\"https://v6.exchangerate-api.com/v6/522707655820473d385f4984/pair/{base_currency}/{target_currency}\"\n",
    "    response = requests.get(url)\n",
    "    return response.json()\n",
    "\n",
    "@tool\n",
    "def convert(base_currency_value: int, conversion_rate: Annotated[float, InjectedToolArg]) -> float:\n",
    "    \"\"\"Given a currency conversion rate, this function calculates the target currency value from a base currency value\"\"\"\n",
    "    return base_currency_value * conversion_rate"
   ]
  },
  {
   "cell_type": "code",
   "execution_count": 3,
   "id": "cc011fd0",
   "metadata": {},
   "outputs": [
    {
     "data": {
      "text/plain": [
       "{'result': 'success',\n",
       " 'documentation': 'https://www.exchangerate-api.com/docs',\n",
       " 'terms_of_use': 'https://www.exchangerate-api.com/terms',\n",
       " 'time_last_update_unix': 1751846402,\n",
       " 'time_last_update_utc': 'Mon, 07 Jul 2025 00:00:02 +0000',\n",
       " 'time_next_update_unix': 1751932802,\n",
       " 'time_next_update_utc': 'Tue, 08 Jul 2025 00:00:02 +0000',\n",
       " 'base_code': 'INR',\n",
       " 'target_code': 'USD',\n",
       " 'conversion_rate': 0.01169}"
      ]
     },
     "execution_count": 3,
     "metadata": {},
     "output_type": "execute_result"
    }
   ],
   "source": [
    "get_conversion_factor.invoke({\"base_currency\": \"INR\", \"target_currency\": \"USD\"})"
   ]
  },
  {
   "cell_type": "markdown",
   "id": "7b00c386",
   "metadata": {},
   "source": [
    "### Tool Binding"
   ]
  },
  {
   "cell_type": "code",
   "execution_count": 4,
   "id": "c511c50d",
   "metadata": {},
   "outputs": [
    {
     "name": "stderr",
     "output_type": "stream",
     "text": [
      "d:\\Gen AI\\LangChain\\venv\\Lib\\site-packages\\tqdm\\auto.py:21: TqdmWarning: IProgress not found. Please update jupyter and ipywidgets. See https://ipywidgets.readthedocs.io/en/stable/user_install.html\n",
      "  from .autonotebook import tqdm as notebook_tqdm\n"
     ]
    }
   ],
   "source": [
    "from langchain_google_genai import ChatGoogleGenerativeAI\n",
    "from dotenv import load_dotenv\n",
    "\n",
    "load_dotenv()\n",
    "llm = ChatGoogleGenerativeAI(model=\"gemini-2.5-flash\")\n",
    "\n",
    "llm_with_tools = llm.bind_tools([get_conversion_factor, convert])"
   ]
  },
  {
   "cell_type": "code",
   "execution_count": 13,
   "id": "368be671",
   "metadata": {},
   "outputs": [],
   "source": [
    "from langchain_core.messages import HumanMessage\n",
    "\n",
    "messages = [HumanMessage(\"What is conversion rate from INR to USD, and based on that convert 98745 inr to USD\")]"
   ]
  },
  {
   "cell_type": "code",
   "execution_count": 14,
   "id": "1a6b59ac",
   "metadata": {},
   "outputs": [
    {
     "data": {
      "text/plain": [
       "[{'name': 'get_conversion_factor',\n",
       "  'args': {'target_currency': 'USD', 'base_currency': 'INR'},\n",
       "  'id': '44be6471-8b2d-42bf-afc7-396cbeea542d',\n",
       "  'type': 'tool_call'}]"
      ]
     },
     "execution_count": 14,
     "metadata": {},
     "output_type": "execute_result"
    }
   ],
   "source": [
    "ai_message = llm_with_tools.invoke(messages)\n",
    "\n",
    "ai_message.tool_calls"
   ]
  },
  {
   "cell_type": "code",
   "execution_count": 15,
   "id": "7a22b290",
   "metadata": {},
   "outputs": [
    {
     "data": {
      "text/plain": [
       "AIMessage(content='', additional_kwargs={'function_call': {'name': 'get_conversion_factor', 'arguments': '{\"target_currency\": \"USD\", \"base_currency\": \"INR\"}'}}, response_metadata={'prompt_feedback': {'block_reason': 0, 'safety_ratings': []}, 'finish_reason': 'STOP', 'safety_ratings': []}, id='run--ccaa162c-37f1-4f90-98d2-5cf5e35606e3-0', tool_calls=[{'name': 'get_conversion_factor', 'args': {'target_currency': 'USD', 'base_currency': 'INR'}, 'id': '44be6471-8b2d-42bf-afc7-396cbeea542d', 'type': 'tool_call'}], usage_metadata={'input_tokens': 151, 'output_tokens': 26, 'total_tokens': 908, 'input_token_details': {'cache_read': 0}})"
      ]
     },
     "execution_count": 15,
     "metadata": {},
     "output_type": "execute_result"
    }
   ],
   "source": [
    "ai_message"
   ]
  },
  {
   "cell_type": "code",
   "execution_count": 16,
   "id": "d2dc3f9e",
   "metadata": {},
   "outputs": [
    {
     "data": {
      "text/plain": [
       "[HumanMessage(content='What is conversion rate from INR to USD, and based on that convert 98745 inr to USD', additional_kwargs={}, response_metadata={}),\n",
       " AIMessage(content='', additional_kwargs={'function_call': {'name': 'get_conversion_factor', 'arguments': '{\"target_currency\": \"USD\", \"base_currency\": \"INR\"}'}}, response_metadata={'prompt_feedback': {'block_reason': 0, 'safety_ratings': []}, 'finish_reason': 'STOP', 'safety_ratings': []}, id='run--ccaa162c-37f1-4f90-98d2-5cf5e35606e3-0', tool_calls=[{'name': 'get_conversion_factor', 'args': {'target_currency': 'USD', 'base_currency': 'INR'}, 'id': '44be6471-8b2d-42bf-afc7-396cbeea542d', 'type': 'tool_call'}], usage_metadata={'input_tokens': 151, 'output_tokens': 26, 'total_tokens': 908, 'input_token_details': {'cache_read': 0}})]"
      ]
     },
     "execution_count": 16,
     "metadata": {},
     "output_type": "execute_result"
    }
   ],
   "source": [
    "messages.append(ai_message)\n",
    "\n",
    "messages"
   ]
  },
  {
   "cell_type": "code",
   "execution_count": 17,
   "id": "d55096d3",
   "metadata": {},
   "outputs": [],
   "source": [
    "tool_call = get_conversion_factor.invoke(ai_message.tool_calls[0])"
   ]
  },
  {
   "cell_type": "code",
   "execution_count": 18,
   "id": "f7844bba",
   "metadata": {},
   "outputs": [
    {
     "data": {
      "text/plain": [
       "0.01169"
      ]
     },
     "execution_count": 18,
     "metadata": {},
     "output_type": "execute_result"
    }
   ],
   "source": [
    "import json\n",
    "json.loads(tool_call.content)[\"conversion_rate\"]"
   ]
  },
  {
   "cell_type": "code",
   "execution_count": 19,
   "id": "c4fcad38",
   "metadata": {},
   "outputs": [
    {
     "data": {
      "text/plain": [
       "[HumanMessage(content='What is conversion rate from INR to USD, and based on that convert 98745 inr to USD', additional_kwargs={}, response_metadata={}),\n",
       " AIMessage(content='', additional_kwargs={'function_call': {'name': 'get_conversion_factor', 'arguments': '{\"target_currency\": \"USD\", \"base_currency\": \"INR\"}'}}, response_metadata={'prompt_feedback': {'block_reason': 0, 'safety_ratings': []}, 'finish_reason': 'STOP', 'safety_ratings': []}, id='run--ccaa162c-37f1-4f90-98d2-5cf5e35606e3-0', tool_calls=[{'name': 'get_conversion_factor', 'args': {'target_currency': 'USD', 'base_currency': 'INR'}, 'id': '44be6471-8b2d-42bf-afc7-396cbeea542d', 'type': 'tool_call'}], usage_metadata={'input_tokens': 151, 'output_tokens': 26, 'total_tokens': 908, 'input_token_details': {'cache_read': 0}}),\n",
       " ToolMessage(content='{\"result\": \"success\", \"documentation\": \"https://www.exchangerate-api.com/docs\", \"terms_of_use\": \"https://www.exchangerate-api.com/terms\", \"time_last_update_unix\": 1751846402, \"time_last_update_utc\": \"Mon, 07 Jul 2025 00:00:02 +0000\", \"time_next_update_unix\": 1751932802, \"time_next_update_utc\": \"Tue, 08 Jul 2025 00:00:02 +0000\", \"base_code\": \"INR\", \"target_code\": \"USD\", \"conversion_rate\": 0.01169}', name='get_conversion_factor', tool_call_id='44be6471-8b2d-42bf-afc7-396cbeea542d')]"
      ]
     },
     "execution_count": 19,
     "metadata": {},
     "output_type": "execute_result"
    }
   ],
   "source": [
    "messages.append(tool_call)\n",
    "messages"
   ]
  },
  {
   "cell_type": "code",
   "execution_count": 20,
   "id": "e511571a",
   "metadata": {},
   "outputs": [
    {
     "data": {
      "text/plain": [
       "AIMessage(content='', additional_kwargs={'function_call': {'name': 'convert', 'arguments': '{\"base_currency_value\": 98745.0}'}}, response_metadata={'prompt_feedback': {'block_reason': 0, 'safety_ratings': []}, 'finish_reason': 'STOP', 'safety_ratings': []}, id='run--3fcf2293-0b40-4848-a34d-815af38bce81-0', tool_calls=[{'name': 'convert', 'args': {'base_currency_value': 98745.0}, 'id': '421a88a3-e16e-4f41-b54b-5da49873f0d9', 'type': 'tool_call'}], usage_metadata={'input_tokens': 378, 'output_tokens': 21, 'total_tokens': 580, 'input_token_details': {'cache_read': 0}})"
      ]
     },
     "execution_count": 20,
     "metadata": {},
     "output_type": "execute_result"
    }
   ],
   "source": [
    "llm_with_tools.invoke(messages)"
   ]
  },
  {
   "cell_type": "code",
   "execution_count": null,
   "id": "bee3d3b6",
   "metadata": {},
   "outputs": [],
   "source": [
    "import json\n",
    "\n",
    "for tool_call in ai_message.tool_calls:\n",
    "  # execute the 1st tool and get the value of conversion rate\n",
    "  if tool_call['name'] == 'get_conversion_factor':\n",
    "    tool_message1 = get_conversion_factor.invoke(tool_call)\n",
    "    # fetch this conversion rate\n",
    "    conversion_rate = json.loads(tool_message1.content)['conversion_rate']\n",
    "    # append this tool message to messages list\n",
    "    messages.append(tool_message1)\n",
    "  # execute the 2nd tool using the conversion rate from tool 1\n",
    "  if tool_call['name'] == 'convert':\n",
    "    # fetch the current arg\n",
    "    tool_call['args']['conversion_rate'] = conversion_rate\n",
    "    tool_message2 = convert.invoke(tool_call)\n",
    "    messages.append(tool_message2)"
   ]
  },
  {
   "cell_type": "code",
   "execution_count": 22,
   "id": "bde437fb",
   "metadata": {},
   "outputs": [],
   "source": [
    "from langchain.agents import initialize_agent, AgentType\n",
    "\n",
    "agent_executor = initialize_agent(\n",
    "    tools=[get_conversion_factor, convert],\n",
    "    llm=llm,\n",
    "    agent=AgentType.STRUCTURED_CHAT_ZERO_SHOT_REACT_DESCRIPTION, # using REACT pattern\n",
    "    verbose=True # shows internal thinking\n",
    ")"
   ]
  },
  {
   "cell_type": "code",
   "execution_count": 23,
   "id": "489cbf26",
   "metadata": {},
   "outputs": [
    {
     "name": "stdout",
     "output_type": "stream",
     "text": [
      "\n",
      "\n",
      "\u001b[1m> Entering new AgentExecutor chain...\u001b[0m\n",
      "\u001b[32;1m\u001b[1;3mThought: The user is greeting me. I should respond in a friendly manner. There is no need to use any tools for this.\n",
      "Action:\n",
      "```\n",
      "{\n",
      "  \"action\": \"Final Answer\",\n",
      "  \"action_input\": \"I'm doing great, thank you for asking! How can I help you today?\"\n",
      "}\n",
      "```\u001b[0m\n",
      "\n",
      "\u001b[1m> Finished chain.\u001b[0m\n"
     ]
    },
    {
     "data": {
      "text/plain": [
       "{'input': 'Hi how are you',\n",
       " 'output': \"I'm doing great, thank you for asking! How can I help you today?\"}"
      ]
     },
     "execution_count": 23,
     "metadata": {},
     "output_type": "execute_result"
    }
   ],
   "source": [
    "query = \"Hi how are you\"\n",
    "response = agent_executor.invoke({\"input\": query})\n",
    "\n",
    "response"
   ]
  },
  {
   "cell_type": "code",
   "execution_count": 24,
   "id": "8068b497",
   "metadata": {},
   "outputs": [
    {
     "name": "stdout",
     "output_type": "stream",
     "text": [
      "\n",
      "\n",
      "\u001b[1m> Entering new AgentExecutor chain...\u001b[0m\n",
      "\u001b[32;1m\u001b[1;3mThought: The user is asking for two things:\n",
      "1. The conversion factor from USD to INR.\n",
      "2. Convert 96 INR to USD based on that factor.\n",
      "\n",
      "I need to use the `get_conversion_factor` tool first to get the conversion factor from USD to INR.\n",
      "Then, I'll need to use the `convert` tool. However, the `convert` tool takes `base_currency_value` and `conversion_rate`. The `get_conversion_factor` returns the rate from `base_currency` to `target_currency`. If I get the rate from USD to INR, say it's X, then 1 USD = X INR. To convert INR to USD, I'll need to divide by X or multiply by 1/X.\n",
      "\n",
      "Let's start by getting the conversion factor from USD to INR.\n",
      "Action:\n",
      "```json\n",
      "{\n",
      "  \"action\": \"get_conversion_factor\",\n",
      "  \"action_input\": {\n",
      "    \"base_currency\": \"USD\",\n",
      "    \"target_currency\": \"INR\"\n",
      "  }\n",
      "}\n",
      "```\u001b[0m\n",
      "Observation: \u001b[36;1m\u001b[1;3m{'result': 'success', 'documentation': 'https://www.exchangerate-api.com/docs', 'terms_of_use': 'https://www.exchangerate-api.com/terms', 'time_last_update_unix': 1751846402, 'time_last_update_utc': 'Mon, 07 Jul 2025 00:00:02 +0000', 'time_next_update_unix': 1751932802, 'time_next_update_utc': 'Tue, 08 Jul 2025 00:00:02 +0000', 'base_code': 'USD', 'target_code': 'INR', 'conversion_rate': 85.543}\u001b[0m\n",
      "Thought:\u001b[32;1m\u001b[1;3mThe user asked for two things:\n",
      "1. The conversion factor from USD to INR. I have obtained this as 85.543.\n",
      "2. Convert 96 INR to USD based on that factor.\n",
      "\n",
      "The conversion rate I got is 1 USD = 85.543 INR.\n",
      "To convert 96 INR to USD, I need to divide 96 by the conversion rate.\n",
      "So, 96 INR = 96 / 85.543 USD.\n",
      "\n",
      "I can use the `convert` tool, but the `convert` tool expects `base_currency_value` and `conversion_rate`. The `conversion_rate` I have is USD to INR.\n",
      "If I want to convert INR to USD, I need to use the inverse of the conversion rate.\n",
      "So, 1 INR = 1/85.543 USD.\n",
      "Therefore, 96 INR = 96 * (1/85.543) USD.\n",
      "\n",
      "Let's calculate this directly since the `convert` tool is designed for base_currency to target_currency conversion, and here the base currency for the conversion (INR) is the target currency of the rate I just fetched.\n",
      "\n",
      "Calculation: 96 / 85.543 = 1.1222477925\n",
      "\n",
      "Now I have both pieces of information requested. I can provide the final answer.\n",
      "Action:\n",
      "```json\n",
      "{\n",
      "  \"action\": \"Final Answer\",\n",
      "  \"action_input\": \"The conversion factor from USD to INR is 85.543. Based on this, 96 INR is approximately 1.12 USD.\"\n",
      "}\n",
      "```\u001b[0m\n",
      "\n",
      "\u001b[1m> Finished chain.\u001b[0m\n"
     ]
    }
   ],
   "source": [
    "response = agent_executor.invoke({\"input\": \"what is the conversion factor from USD to INR and based on that convert 96 INR to USD\"})"
   ]
  },
  {
   "cell_type": "code",
   "execution_count": 25,
   "id": "5f5467f1",
   "metadata": {},
   "outputs": [
    {
     "data": {
      "text/plain": [
       "{'input': 'what is the conversion factor from USD to INR and based on that convert 96 INR to USD',\n",
       " 'output': 'The conversion factor from USD to INR is 85.543. Based on this, 96 INR is approximately 1.12 USD.'}"
      ]
     },
     "execution_count": 25,
     "metadata": {},
     "output_type": "execute_result"
    }
   ],
   "source": [
    "response"
   ]
  },
  {
   "cell_type": "code",
   "execution_count": 26,
   "id": "45ff9de1",
   "metadata": {},
   "outputs": [
    {
     "name": "stdout",
     "output_type": "stream",
     "text": [
      "\n",
      "\n",
      "\u001b[1m> Entering new AgentExecutor chain...\u001b[0m\n",
      "\u001b[32;1m\u001b[1;3mThought: The user is asking for two things:\n",
      "1. The conversion factor from INR to USD.\n",
      "2. The conversion of 96 INR to USD based on that factor.\n",
      "\n",
      "I need to use the `get_conversion_factor` tool first to get the rate, and then the `convert` tool to perform the conversion.\n",
      "Action:\n",
      "```json\n",
      "{\n",
      "  \"action\": \"get_conversion_factor\",\n",
      "  \"action_input\": {\n",
      "    \"base_currency\": \"INR\",\n",
      "    \"target_currency\": \"USD\"\n",
      "  }\n",
      "}\n",
      "```\u001b[0m\n",
      "Observation: \u001b[36;1m\u001b[1;3m{'result': 'success', 'documentation': 'https://www.exchangerate-api.com/docs', 'terms_of_use': 'https://www.exchangerate-api.com/terms', 'time_last_update_unix': 1751846402, 'time_last_update_utc': 'Mon, 07 Jul 2025 00:00:02 +0000', 'time_next_update_unix': 1751932802, 'time_next_update_utc': 'Tue, 08 Jul 2025 00:00:02 +0000', 'base_code': 'INR', 'target_code': 'USD', 'conversion_rate': 0.01169}\u001b[0m\n",
      "Thought:\u001b[32;1m\u001b[1;3mThought: I have successfully retrieved the conversion factor from INR to USD, which is 0.01169. Now I need to use this factor to convert 96 INR to USD using the `convert` tool.\n",
      "Action:\n",
      "```json\n",
      "{\n",
      "  \"action\": \"convert\",\n",
      "  \"action_input\": {\n",
      "    \"base_currency_value\": 96,\n",
      "    \"conversion_rate\": 0.01169\n",
      "  }\n",
      "}\n",
      "```\u001b[0m\n",
      "Observation: \u001b[33;1m\u001b[1;3m1.1222400000000001\u001b[0m\n",
      "Thought:\u001b[32;1m\u001b[1;3mThe conversion factor from INR to USD is 0.01169.\n",
      "96 INR is equal to 1.12224 USD.\u001b[0m\n",
      "\n",
      "\u001b[1m> Finished chain.\u001b[0m\n"
     ]
    }
   ],
   "source": [
    "response = agent_executor.invoke({\"input\": \"what is the conversion factor from INR to USD and based on that convert 96 INR to USD\"})"
   ]
  },
  {
   "cell_type": "code",
   "execution_count": 27,
   "id": "8e37dc16",
   "metadata": {},
   "outputs": [
    {
     "data": {
      "text/plain": [
       "{'input': 'what is the conversion factor from INR to USD and based on that convert 96 INR to USD',\n",
       " 'output': 'The conversion factor from INR to USD is 0.01169.\\n96 INR is equal to 1.12224 USD.'}"
      ]
     },
     "execution_count": 27,
     "metadata": {},
     "output_type": "execute_result"
    }
   ],
   "source": [
    "response"
   ]
  },
  {
   "cell_type": "code",
   "execution_count": null,
   "id": "d18ffe91",
   "metadata": {},
   "outputs": [],
   "source": []
  }
 ],
 "metadata": {
  "kernelspec": {
   "display_name": "venv",
   "language": "python",
   "name": "python3"
  },
  "language_info": {
   "codemirror_mode": {
    "name": "ipython",
    "version": 3
   },
   "file_extension": ".py",
   "mimetype": "text/x-python",
   "name": "python",
   "nbconvert_exporter": "python",
   "pygments_lexer": "ipython3",
   "version": "3.13.5"
  }
 },
 "nbformat": 4,
 "nbformat_minor": 5
}
