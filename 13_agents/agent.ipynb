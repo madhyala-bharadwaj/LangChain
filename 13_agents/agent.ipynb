{
 "cells": [
  {
   "cell_type": "code",
   "execution_count": 7,
   "id": "4b44e2f1",
   "metadata": {},
   "outputs": [],
   "source": [
    "from langchain_google_genai import ChatGoogleGenerativeAI\n",
    "from langchain.tools import tool\n",
    "from langchain_community.tools import DuckDuckGoSearchRun\n",
    "from langchain.agents import create_react_agent, AgentExecutor\n",
    "import requests\n",
    "from langchain import hub"
   ]
  },
  {
   "cell_type": "code",
   "execution_count": 4,
   "id": "66c36a2d",
   "metadata": {},
   "outputs": [
    {
     "name": "stderr",
     "output_type": "stream",
     "text": [
      "d:\\Gen AI\\LangChain\\venv\\Lib\\site-packages\\langchain_community\\utilities\\duckduckgo_search.py:63: RuntimeWarning: This package (`duckduckgo_search`) has been renamed to `ddgs`! Use `pip install ddgs` instead.\n",
      "  with DDGS() as ddgs:\n"
     ]
    },
    {
     "data": {
      "text/plain": [
       "\"4 days ago · What is General AI? Artificial General Intelligence (AGI) or General AI represents a theoretical form of artificial intelligence (AI) that can solve any task using human-like cognitive … Jan 31, 2025 · Please use this conversation thread to discuss Gen AI in Design held on Jan 31, 2025, 3PM, Pacific Time. Feel free to ask questions about the place, date and time, agenda of … Meetup Details Hi IxDF Geneva, let’s meet online and discuss UX! In our video call, let’s get to know each other and discuss the latest digital product designs we like. Beyond this, what are … 2 days ago · AI-generated art is artwork created with the assistance of artificial intelligence (AI). This process typically involves algorithms that can learn from data inputs and generate new, … Online, self-paced UX Courses created by design experts. Join over 189, 985 students in the world' s largest design school and gain recognized certificates.\""
      ]
     },
     "execution_count": 4,
     "metadata": {},
     "output_type": "execute_result"
    }
   ],
   "source": [
    "search_tool = DuckDuckGoSearchRun()\n",
    "\n",
    "search_tool.invoke(\"What is gen AI\")"
   ]
  },
  {
   "cell_type": "code",
   "execution_count": 6,
   "id": "47d545b7",
   "metadata": {},
   "outputs": [],
   "source": [
    "llm = ChatGoogleGenerativeAI(model=\"gemini-2.5-flash\")"
   ]
  },
  {
   "cell_type": "code",
   "execution_count": null,
   "id": "151c6095",
   "metadata": {},
   "outputs": [
    {
     "name": "stderr",
     "output_type": "stream",
     "text": [
      "d:\\Gen AI\\LangChain\\venv\\Lib\\site-packages\\langsmith\\client.py:272: LangSmithMissingAPIKeyWarning: API key must be provided when using hosted LangSmith API\n",
      "  warnings.warn(\n"
     ]
    },
    {
     "name": "stdout",
     "output_type": "stream",
     "text": [
      "Answer the following questions as best you can. You have access to the following tools:\n",
      "\n",
      "{tools}\n",
      "\n",
      "Use the following format:\n",
      "\n",
      "Question: the input question you must answer\n",
      "Thought: you should always think about what to do\n",
      "Action: the action to take, should be one of [{tool_names}]\n",
      "Action Input: the input to the action\n",
      "Observation: the result of the action\n",
      "... (this Thought/Action/Action Input/Observation can repeat N times)\n",
      "Thought: I now know the final answer\n",
      "Final Answer: the final answer to the original input question\n",
      "\n",
      "Begin!\n",
      "\n",
      "Question: {input}\n",
      "Thought:{agent_scratchpad}\n"
     ]
    }
   ],
   "source": [
    "prompt = hub.pull(\"hwchase17/react\") # pulls the standard ReAct agent prompt\n",
    "# it is like a github for prompts\n",
    "\n",
    "print(prompt.template)"
   ]
  },
  {
   "cell_type": "code",
   "execution_count": 11,
   "id": "9d907fcc",
   "metadata": {},
   "outputs": [],
   "source": [
    "agent = create_react_agent(\n",
    "    llm = llm,\n",
    "    tools = [search_tool],\n",
    "    prompt = prompt\n",
    ")\n",
    "\n",
    "agent_executor = AgentExecutor(\n",
    "    agent = agent,\n",
    "    tools = [search_tool],\n",
    "    verbose = True\n",
    ")"
   ]
  },
  {
   "cell_type": "code",
   "execution_count": 18,
   "id": "c0df8bae",
   "metadata": {},
   "outputs": [
    {
     "name": "stdout",
     "output_type": "stream",
     "text": [
      "\n",
      "\n",
      "\u001b[1m> Entering new AgentExecutor chain...\u001b[0m\n",
      "\u001b[32;1m\u001b[1;3mAction: duckduckgo_search\n",
      "Action Input: Shubman Gill score yesterday England India test match\u001b[0m"
     ]
    },
    {
     "name": "stderr",
     "output_type": "stream",
     "text": [
      "d:\\Gen AI\\LangChain\\venv\\Lib\\site-packages\\langchain_community\\utilities\\duckduckgo_search.py:63: RuntimeWarning: This package (`duckduckgo_search`) has been renamed to `ddgs`! Use `pip install ddgs` instead.\n",
      "  with DDGS() as ddgs:\n"
     ]
    },
    {
     "name": "stdout",
     "output_type": "stream",
     "text": [
      "\u001b[36;1m\u001b[1;3m5 days ago · England face India in the second Test at Edgbaston - follow live scores, radio commentary, video highlights and updates. 1 day ago · Team India created history at Edgbaston as they registered their first-ever Test victory at the iconic venue, defeating England by a massive 336-run margin in the second Test of the … 18 hours ago · Shubman Gill’s record-breaking innings powered India to their first Test win in Birmingham. The victory dealt a heavy blow to England’s Bazball era, raising questions about … 1 day ago · India vs England, 2nd Test Match Report: Shubman Gill tallied 430 runs and Akash Deep, Mohammed Siraj both picked up five-wicket hauls as the visitors dismissed Ben Stokes and Co … 1 day ago · A record breaking Test match from Shubman Gill and some quality fast bowling by Akash Deep and Mohammed Siraj ensured India clinched the 2nd test in Birmingham. Set a target …\u001b[0m\u001b[32;1m\u001b[1;3mFinal Answer: Shubman Gill scored 430 runs in yesterday's test match between England and India.\u001b[0m\n",
      "\n",
      "\u001b[1m> Finished chain.\u001b[0m\n"
     ]
    }
   ],
   "source": [
    "response = agent_executor.invoke({\"input\": \"What is the score of Shubman Gill in yesterdays test match between England and India\"})"
   ]
  },
  {
   "cell_type": "code",
   "execution_count": 19,
   "id": "0fcdf2c3",
   "metadata": {},
   "outputs": [
    {
     "name": "stdout",
     "output_type": "stream",
     "text": [
      "{'input': 'What is the score of Shubman Gill in yesterdays test match between England and India', 'output': \"Shubman Gill scored 430 runs in yesterday's test match between England and India.\"}\n"
     ]
    }
   ],
   "source": [
    "print(response)"
   ]
  },
  {
   "cell_type": "markdown",
   "id": "ba89004d",
   "metadata": {},
   "source": [
    "### Search tool + Weather API"
   ]
  },
  {
   "cell_type": "code",
   "execution_count": 20,
   "id": "1ebf197e",
   "metadata": {},
   "outputs": [],
   "source": [
    "@tool\n",
    "def get_weather_data(city: str) -> str:\n",
    "    \"\"\"This function fetches the current weather data for a given city\"\"\"\n",
    "    url = f\"https://api.weatherapi.com/v1/current.json?key=05ae5911a4864a5fbca120949250707&q={city}\" # weatherapi.com\n",
    "    response = requests.get(url)\n",
    "    return response.json()"
   ]
  },
  {
   "cell_type": "code",
   "execution_count": 21,
   "id": "ed317e36",
   "metadata": {},
   "outputs": [],
   "source": [
    "agent = create_react_agent(\n",
    "    llm=llm,\n",
    "    tools=[search_tool, get_weather_data],\n",
    "    prompt=prompt\n",
    ")\n",
    "\n",
    "agent_executor = AgentExecutor(\n",
    "    agent=agent,\n",
    "    tools=[search_tool, get_weather_data],\n",
    "    verbose=True\n",
    ")"
   ]
  },
  {
   "cell_type": "code",
   "execution_count": 22,
   "id": "0386a3ca",
   "metadata": {},
   "outputs": [
    {
     "name": "stdout",
     "output_type": "stream",
     "text": [
      "\n",
      "\n",
      "\u001b[1m> Entering new AgentExecutor chain...\u001b[0m\n",
      "\u001b[32;1m\u001b[1;3mAction: duckduckgo_search\n",
      "Action Input: capital of Telangana\u001b[0m"
     ]
    },
    {
     "name": "stderr",
     "output_type": "stream",
     "text": [
      "d:\\Gen AI\\LangChain\\venv\\Lib\\site-packages\\langchain_community\\utilities\\duckduckgo_search.py:63: RuntimeWarning: This package (`duckduckgo_search`) has been renamed to `ddgs`! Use `pip install ddgs` instead.\n",
      "  with DDGS() as ddgs:\n"
     ]
    },
    {
     "name": "stdout",
     "output_type": "stream",
     "text": [
      "\u001b[36;1m\u001b[1;3m6 days ago · Telangana is a state of south-central India. The area of what is now Telangana constituted the north … 4 days ago · Telangana – Hyderabad serves as the capital of India’s youngest state, formed in 2014. Kerala – … Aug 4, 2024 · The Hyderabad is the capital of Telangana State. South of North and North of South,’ Telangana State … Feb 7, 2025 · The city of Hyderabad officially ceases to be the joint capital of Telangana and Andhra Pradesh on 2 June 2024. On 2 June 2014, Hyderabad was made the joint capital of Andhra Pradesh and the newly created state of Telangana for ten years. Telangana was created as the 29th state of India by bifurcating Andhra Pradesh in 2014. Status of Hyderabad 2 days ago · Hyderabad district has the capital city of Telangana, also called Hyderabad, which is the head office of the district. The …\u001b[0m\u001b[32;1m\u001b[1;3mAction: get_weather_data\n",
      "Action Input: Hyderabad\u001b[0m\u001b[33;1m\u001b[1;3m{'location': {'name': 'Hyderabad', 'region': 'Telangana', 'country': 'India', 'lat': 17.3753, 'lon': 78.4744, 'tz_id': 'Asia/Kolkata', 'localtime_epoch': 1751890919, 'localtime': '2025-07-07 17:51'}, 'current': {'last_updated_epoch': 1751890500, 'last_updated': '2025-07-07 17:45', 'temp_c': 29.3, 'temp_f': 84.7, 'is_day': 1, 'condition': {'text': 'Mist', 'icon': '//cdn.weatherapi.com/weather/64x64/day/143.png', 'code': 1030}, 'wind_mph': 17.2, 'wind_kph': 27.7, 'wind_degree': 277, 'wind_dir': 'W', 'pressure_mb': 1005.0, 'pressure_in': 29.68, 'precip_mm': 0.44, 'precip_in': 0.02, 'humidity': 58, 'cloud': 75, 'feelslike_c': 32.2, 'feelslike_f': 89.9, 'windchill_c': 27.5, 'windchill_f': 81.5, 'heatindex_c': 29.2, 'heatindex_f': 84.6, 'dewpoint_c': 19.6, 'dewpoint_f': 67.4, 'vis_km': 5.0, 'vis_miles': 3.0, 'uv': 0.5, 'gust_mph': 20.9, 'gust_kph': 33.7}}\u001b[0m\u001b[32;1m\u001b[1;3mI now know the final answer\n",
      "Final Answer: The capital of Telangana is Hyderabad. The current weather condition in Hyderabad is Mist with a temperature of 29.3°C.\u001b[0m\n",
      "\n",
      "\u001b[1m> Finished chain.\u001b[0m\n"
     ]
    }
   ],
   "source": [
    "response = agent_executor.invoke({\"input\": \"What is the capital of Telangana and it's current weather condition\"})"
   ]
  },
  {
   "cell_type": "code",
   "execution_count": 23,
   "id": "353dbf67",
   "metadata": {},
   "outputs": [
    {
     "data": {
      "text/plain": [
       "{'input': \"What is the capital of Telangana and it's current weather condition\",\n",
       " 'output': 'The capital of Telangana is Hyderabad. The current weather condition in Hyderabad is Mist with a temperature of 29.3°C.'}"
      ]
     },
     "execution_count": 23,
     "metadata": {},
     "output_type": "execute_result"
    }
   ],
   "source": [
    "response"
   ]
  }
 ],
 "metadata": {
  "kernelspec": {
   "display_name": "venv",
   "language": "python",
   "name": "python3"
  },
  "language_info": {
   "codemirror_mode": {
    "name": "ipython",
    "version": 3
   },
   "file_extension": ".py",
   "mimetype": "text/x-python",
   "name": "python",
   "nbconvert_exporter": "python",
   "pygments_lexer": "ipython3",
   "version": "3.13.5"
  }
 },
 "nbformat": 4,
 "nbformat_minor": 5
}
