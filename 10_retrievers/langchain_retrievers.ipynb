{
  "cells": [
    {
      "cell_type": "markdown",
      "metadata": {
        "id": "b1Fe61XA69FR"
      },
      "source": [
        "## Wikipedia Retriever"
      ]
    },
    {
      "cell_type": "code",
      "execution_count": 1,
      "metadata": {
        "id": "tVlVrUuQ6cCC"
      },
      "outputs": [],
      "source": [
        "from langchain_community.retrievers import WikipediaRetriever"
      ]
    },
    {
      "cell_type": "code",
      "execution_count": 2,
      "metadata": {
        "id": "q5FUCNmX7ICr"
      },
      "outputs": [],
      "source": [
        "# Initialize the retriever (optional: set language and top_k)\n",
        "retriever = WikipediaRetriever(top_k_results=2, lang=\"en\")"
      ]
    },
    {
      "cell_type": "code",
      "execution_count": 3,
      "metadata": {
        "id": "i-8sH-w67K8J"
      },
      "outputs": [],
      "source": [
        "query = \"the geopolitical history of india and pakistan from the perspective of a chinese\"\n",
        "\n",
        "# Get relevant Wikipedia documents\n",
        "docs = retriever.invoke(query)"
      ]
    },
    {
      "cell_type": "code",
      "execution_count": 4,
      "metadata": {
        "colab": {
          "base_uri": "https://localhost:8080/"
        },
        "id": "6mD3zUptQSQg",
        "outputId": "e4963f93-dce0-4d6e-c955-4499196aa0f5"
      },
      "outputs": [
        {
          "data": {
            "text/plain": [
              "[Document(metadata={'title': 'Foreign relations of Pakistan', 'summary': \"The Islamic Republic of Pakistan emerged as an independent country through the partition of India in August 1947 and was admitted as a United Nations member state in September 1947. It is currently the second-most populous country within the Muslim world, and is also the only Muslim-majority country openly in possession of nuclear weapons. The country shares land borders with India, Iran, Afghanistan, and China.\\nThe country has extensive trade relations with the European Union and with several countries globally. As of 2023, Pakistan does not recognize two other United Nations member states (Armenia and Israel) and its ties with India remain frozen since 2019.\\nFrom a geopolitical perspective, Pakistan's location is strategically important as it is situated at the crossroads of major maritime and land transit routes between the Middle East and South Asia, while also serving as a bridge between the Arabian Sea and the energy-rich regions of Central Asia. Since the partition of India, the Kashmir conflict has defined the India–Pakistan relationship: the two countries claim each other's zones of control in Kashmir, but are separated by a ceasefire boundary known as the Line of Control. Pakistan has close bilateral ties with China and the Muslim world, including Turkey, Saudi Arabia, and the Gulf Arab countries. As a part of the First World during the Cold War, Pakistan closely cooperated with the United States to combat the global influence of the Soviet Union, though this relationship later became strained over the course of the War on Terror. Pakistan is an active member of the Commonwealth of Nations, Organization of Islamic Cooperation, and the Shanghai Cooperation Organization.\", 'source': 'https://en.wikipedia.org/wiki/Foreign_relations_of_Pakistan'}, page_content='The Islamic Republic of Pakistan emerged as an independent country through the partition of India in August 1947 and was admitted as a United Nations member state in September 1947. It is currently the second-most populous country within the Muslim world, and is also the only Muslim-majority country openly in possession of nuclear weapons. The country shares land borders with India, Iran, Afghanistan, and China.\\nThe country has extensive trade relations with the European Union and with several countries globally. As of 2023, Pakistan does not recognize two other United Nations member states (Armenia and Israel) and its ties with India remain frozen since 2019.\\nFrom a geopolitical perspective, Pakistan\\'s location is strategically important as it is situated at the crossroads of major maritime and land transit routes between the Middle East and South Asia, while also serving as a bridge between the Arabian Sea and the energy-rich regions of Central Asia. Since the partition of India, the Kashmir conflict has defined the India–Pakistan relationship: the two countries claim each other\\'s zones of control in Kashmir, but are separated by a ceasefire boundary known as the Line of Control. Pakistan has close bilateral ties with China and the Muslim world, including Turkey, Saudi Arabia, and the Gulf Arab countries. As a part of the First World during the Cold War, Pakistan closely cooperated with the United States to combat the global influence of the Soviet Union, though this relationship later became strained over the course of the War on Terror. Pakistan is an active member of the Commonwealth of Nations, Organization of Islamic Cooperation, and the Shanghai Cooperation Organization.\\n\\n\\n== Foreign policy of Pakistan ==\\nPakistan\\'s foreign policy seeks the \\'promotion of Pakistan as a dynamic, progressive, moderate, and democratic Islamic country; developing friendly relations with all countries of the world, especially major powers and immediate neighbors; consolidating our commercial and economic cooperation with international community.\"\\nPakistan\\'s foreign policy is meant to formalize and define its interactions with foreign nations and standardize interactions with organizations, corporations and individual citizens. Backed by the semi-agricultural and semi-industrialized economy, Pakistan is the 44th largest (nominal GDP, 2025) and 26th largest (purchasing) economic power and 7th largest military in the world in terms of active personnel, with a defense budget of US$10.2 billion (2024), 2.7% of its GDP (2024). The Foreign Minister of Pakistan is the official charged with state-to-state diplomacy, although the Prime minister maintains an ultimate authority over foreign policy. The state foreign policy includes defining the national interest, as well as the economic interest and strategies chosen both to safeguard that and to achieve its policy goals. Following the general election held in May 2013, Tariq Fatimi and NSA Sartaj Aziz were designated as advisers to the Prime Minister on foreign and strategic policies. After the dismissal of Nawaz Sharif\\'s government in July 2017, Khawaja Muhammad Asif held the portfolio of foreign minister under the premiership of Shahid Khaqan Abbasi. After the victory of Imran Khan Niazi in the Pakistan General Elections 2018, Shah Mehmood Qureshi was named the Minister of Foreign Affairs. Subsequently, Bilawal Bhutto Zardari became foreign minister after the political crisis-a position previously held by his grandfather, Zulfikar Ali Bhutto, and Hina Rabbani Khar.\\n\\n\\n=== M A Jinnah\\'s Vision ===\\nIn 1947, Muhammad Ali Jinnah, founder of the state of Pakistan, clearly described the principles and objectives of Pakistan\\'s foreign policy in a broadcast message, which is featured prominently in a quotation on the homepage of Pakistan\\'s Ministry of Foreign Affairs website: \"The foundation of our foreign policy is friendship with all nations across the globe.\"\\nOn 15 August 1947, outlining the foreign policy '),\n",
              " Document(metadata={'title': \"Territorial disputes of the People's Republic of China\", 'summary': \"This article is about territorial disputes of the People's Republic of China (PRC). A territorial dispute is a disagreement over the possession or control of land between two or more political entities. Many of China's territorial disputes result from the historical consequences of colonialism in Asia and the lack of clear historical boundary demarcations. Many of these disputes are almost identical to those that the Republic of China (ROC) based in Taipei, also known as Taiwan, has with other countries. Therefore, many of the subsequent resolved disputes made by the PRC after 1949 with other governments may not be recognized by the ROC.\", 'source': 'https://en.wikipedia.org/wiki/Territorial_disputes_of_the_People%27s_Republic_of_China'}, page_content='This article is about territorial disputes of the People\\'s Republic of China (PRC). A territorial dispute is a disagreement over the possession or control of land between two or more political entities. Many of China\\'s territorial disputes result from the historical consequences of colonialism in Asia and the lack of clear historical boundary demarcations. Many of these disputes are almost identical to those that the Republic of China (ROC) based in Taipei, also known as Taiwan, has with other countries. Therefore, many of the subsequent resolved disputes made by the PRC after 1949 with other governments may not be recognized by the ROC.\\n\\n\\n== Current disputes ==\\nMany of China\\'s territorial disputes result from the historical consequences of colonialism in Asia and the lack of clear historical boundary demarcations.:\\u200a251\\u200a\\nChina\\'s claims to disputed maritime territories date from prior to the founding of the People\\'s Republic of China.:\\u200a197\\u200a\\n\\n\\n=== Bhutan ===\\n\\nBhutan\\'s border with Tibet has never been officially recognized, much less demarcated. The Republic of China based in Taiwan officially maintains a territorial claim on parts of Bhutan to this day. The territorial claim was maintained by the People\\'s Republic of China after the Chinese Communist Party took control of mainland China in the Chinese Civil War.\\nThe 1959 Tibetan Rebellion and the 14th Dalai Lama\\'s arrival in neighboring India made the security of Bhutan\\'s border with China a necessity for Bhutan. An estimated 6,000 Tibetans fled to Bhutan and were granted asylum, although Bhutan subsequently closed its border to China, fearing more refugees to come. In July 1959, along with the occupation of Tibet, the Chinese People\\'s Liberation Army occupied several Bhutanese exclaves in western Tibet which were under Bhutanese administration for more than 300 years and had been given to Bhutan by Ngawang Namgyal in the 17th century. These included Darchen, Labrang Monastery, Gartok and several smaller monasteries and villages near Mount Kailas.\\nIn 1983, the Chinese Foreign Minister Wu Xueqian and Bhutanese Foreign Minister Dawa Tsering held talks on establishing bilateral relations in New York. In 1984, China and Bhutan began annual, direct talks over the border dispute. In 1998, China and Bhutan signed a bilateral agreement for maintaining peace on the border. In the agreement, China affirmed its respect for Bhutan\\'s sovereignty and territorial integrity and both sides sought to build ties based on the Five Principles of Peaceful Co-existence. However, China\\'s building of roads on what Bhutan asserts to be Bhutanese territory, allegedly in violation of the 1998 agreement, has provoked tensions. In 2002, however, China presented what it claimed to be \\'evidence\\', asserting its ownership of disputed tracts of land; after negotiations, an interim agreement was reached.\\nOn 11 August 2016 Bhutan Foreign Minister Damcho Dorji visited Beijing, capital of China, for the 24th round of boundary talks with Chinese Vice President Li Yuanchao. Both sides made comments to show their readiness to strengthen co-operations in various fields and hope of settling the boundary issues. In 2024, The New York Times reported that, according to satellite imagery, China had constructed villages inside of disputed territory within Bhutan. Chinese individuals, called \"border guardians,\" received annual subsidies to relocate to newly built villages and paid to conduct border patrols.\\n\\n\\n=== India ===\\n\\nChina and India have various territorial disputes. There was one historical attempt to set a proposed boundary, the McMahon Line, by Great Britain during the 1913-1914 Simla Convention.:\\u200a251\\u200a The Republic of China rejected the proposed boundary.:\\u200a251\\u200a The unresolved dispute over the boundary became contentious after India gained its independence and the People\\'s Republic of China was established.:\\u200a251\\u200a The disputed borders are complicated by the lack of administrative presence in the disputed areas, which ar')]"
            ]
          },
          "execution_count": 4,
          "metadata": {},
          "output_type": "execute_result"
        }
      ],
      "source": [
        "docs"
      ]
    },
    {
      "cell_type": "code",
      "execution_count": 5,
      "metadata": {
        "colab": {
          "base_uri": "https://localhost:8080/"
        },
        "id": "UH3lPwDi7Myp",
        "outputId": "156011e5-ff17-4cfc-ec82-b7621f814f6f"
      },
      "outputs": [
        {
          "name": "stdout",
          "output_type": "stream",
          "text": [
            "\n",
            "--- Result 1 ---\n",
            "Content:\n",
            "The Islamic Republic of Pakistan emerged as an independent country through the partition of India in August 1947 and was admitted as a United Nations member state in September 1947. It is currently the second-most populous country within the Muslim world, and is also the only Muslim-majority country openly in possession of nuclear weapons. The country shares land borders with India, Iran, Afghanistan, and China.\n",
            "The country has extensive trade relations with the European Union and with several countries globally. As of 2023, Pakistan does not recognize two other United Nations member states (Armenia and Israel) and its ties with India remain frozen since 2019.\n",
            "From a geopolitical perspective, Pakistan's location is strategically important as it is situated at the crossroads of major maritime and land transit routes between the Middle East and South Asia, while also serving as a bridge between the Arabian Sea and the energy-rich regions of Central Asia. Since the partition of India, the Kashmir conflict has defined the India–Pakistan relationship: the two countries claim each other's zones of control in Kashmir, but are separated by a ceasefire boundary known as the Line of Control. Pakistan has close bilateral ties with China and the Muslim world, including Turkey, Saudi Arabia, and the Gulf Arab countries. As a part of the First World during the Cold War, Pakistan closely cooperated with the United States to combat the global influence of the Soviet Union, though this relationship later became strained over the course of the War on Terror. Pakistan is an active member of the Commonwealth of Nations, Organization of Islamic Cooperation, and the Shanghai Cooperation Organization.\n",
            "\n",
            "\n",
            "== Foreign policy of Pakistan ==\n",
            "Pakistan's foreign policy seeks the 'promotion of Pakistan as a dynamic, progressive, moderate, and democratic Islamic country; developing friendly relations with all countries of the world, especially major powers and immediate neighbors; consolidating our commercial and economic cooperation with international community.\"\n",
            "Pakistan's foreign policy is meant to formalize and define its interactions with foreign nations and standardize interactions with organizations, corporations and individual citizens. Backed by the semi-agricultural and semi-industrialized economy, Pakistan is the 44th largest (nominal GDP, 2025) and 26th largest (purchasing) economic power and 7th largest military in the world in terms of active personnel, with a defense budget of US$10.2 billion (2024), 2.7% of its GDP (2024). The Foreign Minister of Pakistan is the official charged with state-to-state diplomacy, although the Prime minister maintains an ultimate authority over foreign policy. The state foreign policy includes defining the national interest, as well as the economic interest and strategies chosen both to safeguard that and to achieve its policy goals. Following the general election held in May 2013, Tariq Fatimi and NSA Sartaj Aziz were designated as advisers to the Prime Minister on foreign and strategic policies. After the dismissal of Nawaz Sharif's government in July 2017, Khawaja Muhammad Asif held the portfolio of foreign minister under the premiership of Shahid Khaqan Abbasi. After the victory of Imran Khan Niazi in the Pakistan General Elections 2018, Shah Mehmood Qureshi was named the Minister of Foreign Affairs. Subsequently, Bilawal Bhutto Zardari became foreign minister after the political crisis-a position previously held by his grandfather, Zulfikar Ali Bhutto, and Hina Rabbani Khar.\n",
            "\n",
            "\n",
            "=== M A Jinnah's Vision ===\n",
            "In 1947, Muhammad Ali Jinnah, founder of the state of Pakistan, clearly described the principles and objectives of Pakistan's foreign policy in a broadcast message, which is featured prominently in a quotation on the homepage of Pakistan's Ministry of Foreign Affairs website: \"The foundation of our foreign policy is friendship with all nations across the globe.\"\n",
            "On 15 August 1947, outlining the foreign policy ...\n",
            "\n",
            "--- Result 2 ---\n",
            "Content:\n",
            "This article is about territorial disputes of the People's Republic of China (PRC). A territorial dispute is a disagreement over the possession or control of land between two or more political entities. Many of China's territorial disputes result from the historical consequences of colonialism in Asia and the lack of clear historical boundary demarcations. Many of these disputes are almost identical to those that the Republic of China (ROC) based in Taipei, also known as Taiwan, has with other countries. Therefore, many of the subsequent resolved disputes made by the PRC after 1949 with other governments may not be recognized by the ROC.\n",
            "\n",
            "\n",
            "== Current disputes ==\n",
            "Many of China's territorial disputes result from the historical consequences of colonialism in Asia and the lack of clear historical boundary demarcations.: 251 \n",
            "China's claims to disputed maritime territories date from prior to the founding of the People's Republic of China.: 197 \n",
            "\n",
            "\n",
            "=== Bhutan ===\n",
            "\n",
            "Bhutan's border with Tibet has never been officially recognized, much less demarcated. The Republic of China based in Taiwan officially maintains a territorial claim on parts of Bhutan to this day. The territorial claim was maintained by the People's Republic of China after the Chinese Communist Party took control of mainland China in the Chinese Civil War.\n",
            "The 1959 Tibetan Rebellion and the 14th Dalai Lama's arrival in neighboring India made the security of Bhutan's border with China a necessity for Bhutan. An estimated 6,000 Tibetans fled to Bhutan and were granted asylum, although Bhutan subsequently closed its border to China, fearing more refugees to come. In July 1959, along with the occupation of Tibet, the Chinese People's Liberation Army occupied several Bhutanese exclaves in western Tibet which were under Bhutanese administration for more than 300 years and had been given to Bhutan by Ngawang Namgyal in the 17th century. These included Darchen, Labrang Monastery, Gartok and several smaller monasteries and villages near Mount Kailas.\n",
            "In 1983, the Chinese Foreign Minister Wu Xueqian and Bhutanese Foreign Minister Dawa Tsering held talks on establishing bilateral relations in New York. In 1984, China and Bhutan began annual, direct talks over the border dispute. In 1998, China and Bhutan signed a bilateral agreement for maintaining peace on the border. In the agreement, China affirmed its respect for Bhutan's sovereignty and territorial integrity and both sides sought to build ties based on the Five Principles of Peaceful Co-existence. However, China's building of roads on what Bhutan asserts to be Bhutanese territory, allegedly in violation of the 1998 agreement, has provoked tensions. In 2002, however, China presented what it claimed to be 'evidence', asserting its ownership of disputed tracts of land; after negotiations, an interim agreement was reached.\n",
            "On 11 August 2016 Bhutan Foreign Minister Damcho Dorji visited Beijing, capital of China, for the 24th round of boundary talks with Chinese Vice President Li Yuanchao. Both sides made comments to show their readiness to strengthen co-operations in various fields and hope of settling the boundary issues. In 2024, The New York Times reported that, according to satellite imagery, China had constructed villages inside of disputed territory within Bhutan. Chinese individuals, called \"border guardians,\" received annual subsidies to relocate to newly built villages and paid to conduct border patrols.\n",
            "\n",
            "\n",
            "=== India ===\n",
            "\n",
            "China and India have various territorial disputes. There was one historical attempt to set a proposed boundary, the McMahon Line, by Great Britain during the 1913-1914 Simla Convention.: 251  The Republic of China rejected the proposed boundary.: 251  The unresolved dispute over the boundary became contentious after India gained its independence and the People's Republic of China was established.: 251  The disputed borders are complicated by the lack of administrative presence in the disputed areas, which ar...\n"
          ]
        }
      ],
      "source": [
        "for i, doc in enumerate(docs):\n",
        "    print(f\"\\n--- Result {i+1} ---\")\n",
        "    print(f\"Content:\\n{doc.page_content}...\")  # truncate for display"
      ]
    },
    {
      "cell_type": "markdown",
      "metadata": {
        "id": "Z2qt9J157djt"
      },
      "source": [
        "## Vector Store Retriever"
      ]
    },
    {
      "cell_type": "code",
      "execution_count": 6,
      "metadata": {
        "id": "sUKzoti97OKc"
      },
      "outputs": [],
      "source": [
        "from langchain_community.vectorstores import Chroma\n",
        "from langchain_openai import OpenAIEmbeddings\n",
        "from langchain_core.documents import Document"
      ]
    },
    {
      "cell_type": "code",
      "execution_count": 7,
      "metadata": {
        "id": "dLymTTcA7nbZ"
      },
      "outputs": [],
      "source": [
        "# Step 1: Your source documents\n",
        "documents = [\n",
        "    Document(page_content=\"LangChain helps developers build LLM applications easily.\"),\n",
        "    Document(page_content=\"Chroma is a vector database optimized for LLM-based search.\"),\n",
        "    Document(page_content=\"Embeddings convert text into high-dimensional vectors.\"),\n",
        "    Document(page_content=\"OpenAI provides powerful embedding models.\"),\n",
        "]"
      ]
    },
    {
      "cell_type": "code",
      "execution_count": null,
      "metadata": {
        "id": "B5J0HYsr7prG"
      },
      "outputs": [],
      "source": [
        "# Step 2: Initialize embedding model\n",
        "embedding_model = OpenAIEmbeddings()\n",
        "\n",
        "# Step 3: Create Chroma vector store in memory\n",
        "vectorstore = Chroma.from_documents(\n",
        "    documents=documents,\n",
        "    embedding=embedding_model,\n",
        "    collection_name=\"my_collection\"\n",
        ")"
      ]
    },
    {
      "cell_type": "code",
      "execution_count": null,
      "metadata": {
        "id": "xvSgoUYs7sLu"
      },
      "outputs": [],
      "source": [
        "# Step 4: Convert vectorstore into a retriever\n",
        "retriever = vectorstore.as_retriever(search_kwargs={\"k\": 2})"
      ]
    },
    {
      "cell_type": "code",
      "execution_count": null,
      "metadata": {
        "id": "I5l0rXl67v4N"
      },
      "outputs": [],
      "source": [
        "query = \"What is Chroma used for?\"\n",
        "results = retriever.invoke(query)"
      ]
    },
    {
      "cell_type": "code",
      "execution_count": null,
      "metadata": {
        "colab": {
          "base_uri": "https://localhost:8080/"
        },
        "id": "OMAEeCxK7yRR",
        "outputId": "7f140c90-bf2d-4d54-8988-813b74ed281b"
      },
      "outputs": [
        {
          "name": "stdout",
          "output_type": "stream",
          "text": [
            "\n",
            "--- Result 1 ---\n",
            "Chroma is a vector database optimized for LLM-based search.\n",
            "\n",
            "--- Result 2 ---\n",
            "LangChain helps developers build LLM applications easily.\n"
          ]
        }
      ],
      "source": [
        "for i, doc in enumerate(results):\n",
        "    print(f\"\\n--- Result {i+1} ---\")\n",
        "    print(doc.page_content)"
      ]
    },
    {
      "cell_type": "code",
      "execution_count": null,
      "metadata": {
        "id": "hh0zC7L6R1Zn"
      },
      "outputs": [],
      "source": [
        "results = vectorstore.similarity_search(query, k=2)"
      ]
    },
    {
      "cell_type": "code",
      "execution_count": null,
      "metadata": {
        "colab": {
          "base_uri": "https://localhost:8080/"
        },
        "id": "J7kYMau5R1sC",
        "outputId": "d7b05617-45d7-4584-d18a-a578e4a28e89"
      },
      "outputs": [
        {
          "name": "stdout",
          "output_type": "stream",
          "text": [
            "\n",
            "--- Result 1 ---\n",
            "Chroma is a vector database optimized for LLM-based search.\n",
            "\n",
            "--- Result 2 ---\n",
            "LangChain helps developers build LLM applications easily.\n"
          ]
        }
      ],
      "source": [
        "for i, doc in enumerate(results):\n",
        "    print(f\"\\n--- Result {i+1} ---\")\n",
        "    print(doc.page_content)"
      ]
    },
    {
      "cell_type": "markdown",
      "metadata": {
        "id": "zDwJT1x9A2tI"
      },
      "source": [
        "## MMR"
      ]
    },
    {
      "cell_type": "code",
      "execution_count": null,
      "metadata": {
        "id": "8uL8bET570ud"
      },
      "outputs": [],
      "source": [
        "# Sample documents\n",
        "docs = [\n",
        "    Document(page_content=\"LangChain makes it easy to work with LLMs.\"),\n",
        "    Document(page_content=\"LangChain is used to build LLM based applications.\"),\n",
        "    Document(page_content=\"Chroma is used to store and search document embeddings.\"),\n",
        "    Document(page_content=\"Embeddings are vector representations of text.\"),\n",
        "    Document(page_content=\"MMR helps you get diverse results when doing similarity search.\"),\n",
        "    Document(page_content=\"LangChain supports Chroma, FAISS, Pinecone, and more.\"),\n",
        "]"
      ]
    },
    {
      "cell_type": "code",
      "execution_count": null,
      "metadata": {
        "id": "TM7GvqKeA8ml"
      },
      "outputs": [],
      "source": [
        "from langchain_community.vectorstores import FAISS\n",
        "\n",
        "# Initialize OpenAI embeddings\n",
        "embedding_model = OpenAIEmbeddings()\n",
        "\n",
        "# Step 2: Create the FAISS vector store from documents\n",
        "vectorstore = FAISS.from_documents(\n",
        "    documents=docs,\n",
        "    embedding=embedding_model\n",
        ")"
      ]
    },
    {
      "cell_type": "code",
      "execution_count": null,
      "metadata": {
        "id": "ueDg6SApBAqt"
      },
      "outputs": [],
      "source": [
        "# Enable MMR in the retriever\n",
        "retriever = vectorstore.as_retriever(\n",
        "    search_type=\"mmr\",                   # <-- This enables MMR\n",
        "    search_kwargs={\"k\": 3, \"lambda_mult\": 0.5}  # k = top results, lambda_mult = relevance-diversity balance\n",
        ")"
      ]
    },
    {
      "cell_type": "code",
      "execution_count": null,
      "metadata": {
        "id": "52AkKNz7Chcf"
      },
      "outputs": [],
      "source": [
        "query = \"What is langchain?\"\n",
        "results = retriever.invoke(query)"
      ]
    },
    {
      "cell_type": "code",
      "execution_count": null,
      "metadata": {
        "colab": {
          "base_uri": "https://localhost:8080/"
        },
        "id": "H-HvthKyCkBL",
        "outputId": "6bec200b-9541-480f-fa94-1b8c6b3174f2"
      },
      "outputs": [
        {
          "name": "stdout",
          "output_type": "stream",
          "text": [
            "\n",
            "--- Result 1 ---\n",
            "LangChain is used to build LLM based applications.\n",
            "\n",
            "--- Result 2 ---\n",
            "Embeddings are vector representations of text.\n",
            "\n",
            "--- Result 3 ---\n",
            "LangChain supports Chroma, FAISS, Pinecone, and more.\n"
          ]
        }
      ],
      "source": [
        "for i, doc in enumerate(results):\n",
        "    print(f\"\\n--- Result {i+1} ---\")\n",
        "    print(doc.page_content)"
      ]
    },
    {
      "cell_type": "markdown",
      "metadata": {
        "id": "HFybBaL-Eu8-"
      },
      "source": [
        "## Multiquery Retriever"
      ]
    },
    {
      "cell_type": "code",
      "execution_count": 8,
      "metadata": {
        "id": "Djm-59wI1J-s"
      },
      "outputs": [],
      "source": [
        "from langchain_community.vectorstores import FAISS\n",
        "from langchain_openai import OpenAIEmbeddings\n",
        "from langchain_core.documents import Document\n",
        "from langchain_openai import ChatOpenAI\n",
        "from langchain.retrievers.multi_query import MultiQueryRetriever"
      ]
    },
    {
      "cell_type": "code",
      "execution_count": 9,
      "metadata": {
        "id": "Vxr_cxaJ1KQV"
      },
      "outputs": [],
      "source": [
        "# Relevant health & wellness documents\n",
        "all_docs = [\n",
        "    Document(page_content=\"Regular walking boosts heart health and can reduce symptoms of depression.\", metadata={\"source\": \"H1\"}),\n",
        "    Document(page_content=\"Consuming leafy greens and fruits helps detox the body and improve longevity.\", metadata={\"source\": \"H2\"}),\n",
        "    Document(page_content=\"Deep sleep is crucial for cellular repair and emotional regulation.\", metadata={\"source\": \"H3\"}),\n",
        "    Document(page_content=\"Mindfulness and controlled breathing lower cortisol and improve mental clarity.\", metadata={\"source\": \"H4\"}),\n",
        "    Document(page_content=\"Drinking sufficient water throughout the day helps maintain metabolism and energy.\", metadata={\"source\": \"H5\"}),\n",
        "    Document(page_content=\"The solar energy system in modern homes helps balance electricity demand.\", metadata={\"source\": \"I1\"}),\n",
        "    Document(page_content=\"Python balances readability with power, making it a popular system design language.\", metadata={\"source\": \"I2\"}),\n",
        "    Document(page_content=\"Photosynthesis enables plants to produce energy by converting sunlight.\", metadata={\"source\": \"I3\"}),\n",
        "    Document(page_content=\"The 2022 FIFA World Cup was held in Qatar and drew global energy and excitement.\", metadata={\"source\": \"I4\"}),\n",
        "    Document(page_content=\"Black holes bend spacetime and store immense gravitational energy.\", metadata={\"source\": \"I5\"}),\n",
        "]"
      ]
    },
    {
      "cell_type": "code",
      "execution_count": null,
      "metadata": {
        "id": "pq6eouD41KfF"
      },
      "outputs": [],
      "source": [
        "# Initialize OpenAI embeddings\n",
        "embedding_model = OpenAIEmbeddings()\n",
        "\n",
        "# Create FAISS vector store\n",
        "vectorstore = FAISS.from_documents(documents=all_docs, embedding=embedding_model)"
      ]
    },
    {
      "cell_type": "code",
      "execution_count": null,
      "metadata": {
        "id": "kh62ZNvD1Krv"
      },
      "outputs": [],
      "source": [
        "# Create retrievers\n",
        "similarity_retriever = vectorstore.as_retriever(search_type=\"similarity\", search_kwargs={\"k\": 5})"
      ]
    },
    {
      "cell_type": "code",
      "execution_count": null,
      "metadata": {
        "id": "vXUHDW6m1K75"
      },
      "outputs": [],
      "source": [
        "multiquery_retriever = MultiQueryRetriever.from_llm(\n",
        "    retriever=vectorstore.as_retriever(search_kwargs={\"k\": 5}),\n",
        "    llm=ChatOpenAI(model=\"gpt-3.5-turbo\")\n",
        ")"
      ]
    },
    {
      "cell_type": "code",
      "execution_count": null,
      "metadata": {
        "id": "9ybExIQQ1bnt"
      },
      "outputs": [],
      "source": [
        "# Query\n",
        "query = \"How to improve energy levels and maintain balance?\""
      ]
    },
    {
      "cell_type": "code",
      "execution_count": null,
      "metadata": {
        "id": "V2SlmAoi1gOP"
      },
      "outputs": [],
      "source": [
        "# Retrieve results\n",
        "similarity_results = similarity_retriever.invoke(query)\n",
        "multiquery_results= multiquery_retriever.invoke(query)"
      ]
    },
    {
      "cell_type": "code",
      "execution_count": null,
      "metadata": {
        "colab": {
          "base_uri": "https://localhost:8080/"
        },
        "id": "yQUtMLupwfe2",
        "outputId": "743431a3-5b0e-4f69-8af3-dec66a49f7ce"
      },
      "outputs": [
        {
          "name": "stdout",
          "output_type": "stream",
          "text": [
            "\n",
            "--- Result 1 ---\n",
            "Drinking sufficient water throughout the day helps maintain metabolism and energy.\n",
            "\n",
            "--- Result 2 ---\n",
            "Mindfulness and controlled breathing lower cortisol and improve mental clarity.\n",
            "\n",
            "--- Result 3 ---\n",
            "Regular walking boosts heart health and can reduce symptoms of depression.\n",
            "\n",
            "--- Result 4 ---\n",
            "Deep sleep is crucial for cellular repair and emotional regulation.\n",
            "\n",
            "--- Result 5 ---\n",
            "The solar energy system in modern homes helps balance electricity demand.\n",
            "******************************************************************************************************************************************************\n",
            "\n",
            "--- Result 1 ---\n",
            "Drinking sufficient water throughout the day helps maintain metabolism and energy.\n",
            "\n",
            "--- Result 2 ---\n",
            "Mindfulness and controlled breathing lower cortisol and improve mental clarity.\n",
            "\n",
            "--- Result 3 ---\n",
            "Regular walking boosts heart health and can reduce symptoms of depression.\n",
            "\n",
            "--- Result 4 ---\n",
            "Consuming leafy greens and fruits helps detox the body and improve longevity.\n",
            "\n",
            "--- Result 5 ---\n",
            "Deep sleep is crucial for cellular repair and emotional regulation.\n"
          ]
        }
      ],
      "source": [
        "for i, doc in enumerate(similarity_results):\n",
        "    print(f\"\\n--- Result {i+1} ---\")\n",
        "    print(doc.page_content)\n",
        "\n",
        "print(\"*\"*150)\n",
        "\n",
        "for i, doc in enumerate(multiquery_results):\n",
        "    print(f\"\\n--- Result {i+1} ---\")\n",
        "    print(doc.page_content)"
      ]
    },
    {
      "cell_type": "markdown",
      "metadata": {
        "id": "6AP7o9-VJ0Zq"
      },
      "source": [
        "## ContextualCompressionRetriever"
      ]
    },
    {
      "cell_type": "code",
      "execution_count": null,
      "metadata": {
        "id": "RVl6n3HH6gp_"
      },
      "outputs": [],
      "source": [
        "from langchain_community.vectorstores import FAISS\n",
        "from langchain_openai import OpenAIEmbeddings, ChatOpenAI\n",
        "from langchain.retrievers.contextual_compression import ContextualCompressionRetriever\n",
        "from langchain.retrievers.document_compressors import LLMChainExtractor\n",
        "from langchain_core.documents import Document"
      ]
    },
    {
      "cell_type": "code",
      "execution_count": null,
      "metadata": {
        "id": "RmLD6aZB6g1k"
      },
      "outputs": [],
      "source": [
        "# Recreate the document objects from the previous data\n",
        "docs = [\n",
        "    Document(page_content=(\n",
        "        \"\"\"The Grand Canyon is one of the most visited natural wonders in the world.\n",
        "        Photosynthesis is the process by which green plants convert sunlight into energy.\n",
        "        Millions of tourists travel to see it every year. The rocks date back millions of years.\"\"\"\n",
        "    ), metadata={\"source\": \"Doc1\"}),\n",
        "\n",
        "    Document(page_content=(\n",
        "        \"\"\"In medieval Europe, castles were built primarily for defense.\n",
        "        The chlorophyll in plant cells captures sunlight during photosynthesis.\n",
        "        Knights wore armor made of metal. Siege weapons were often used to breach castle walls.\"\"\"\n",
        "    ), metadata={\"source\": \"Doc2\"}),\n",
        "\n",
        "    Document(page_content=(\n",
        "        \"\"\"Basketball was invented by Dr. James Naismith in the late 19th century.\n",
        "        It was originally played with a soccer ball and peach baskets. NBA is now a global league.\"\"\"\n",
        "    ), metadata={\"source\": \"Doc3\"}),\n",
        "\n",
        "    Document(page_content=(\n",
        "        \"\"\"The history of cinema began in the late 1800s. Silent films were the earliest form.\n",
        "        Thomas Edison was among the pioneers. Photosynthesis does not occur in animal cells.\n",
        "        Modern filmmaking involves complex CGI and sound design.\"\"\"\n",
        "    ), metadata={\"source\": \"Doc4\"})\n",
        "]"
      ]
    },
    {
      "cell_type": "code",
      "execution_count": null,
      "metadata": {
        "id": "tgMNKHnv6hD8"
      },
      "outputs": [],
      "source": [
        "# Create a FAISS vector store from the documents\n",
        "embedding_model = OpenAIEmbeddings()\n",
        "vectorstore = FAISS.from_documents(docs, embedding_model)"
      ]
    },
    {
      "cell_type": "code",
      "execution_count": null,
      "metadata": {
        "id": "vlAqc8lQrz_B"
      },
      "outputs": [],
      "source": [
        "base_retriever = vectorstore.as_retriever(search_kwargs={\"k\": 5})"
      ]
    },
    {
      "cell_type": "code",
      "execution_count": null,
      "metadata": {
        "id": "nHjUdgiS6hRK"
      },
      "outputs": [],
      "source": [
        "# Set up the compressor using an LLM\n",
        "llm = ChatOpenAI(model=\"gpt-3.5-turbo\")\n",
        "compressor = LLMChainExtractor.from_llm(llm)"
      ]
    },
    {
      "cell_type": "code",
      "execution_count": null,
      "metadata": {
        "id": "um5gKEMT6hdB"
      },
      "outputs": [],
      "source": [
        "# Create the contextual compression retriever\n",
        "compression_retriever = ContextualCompressionRetriever(\n",
        "    base_retriever=base_retriever,\n",
        "    base_compressor=compressor\n",
        ")"
      ]
    },
    {
      "cell_type": "code",
      "execution_count": null,
      "metadata": {
        "id": "lmHGenTo6hp6"
      },
      "outputs": [],
      "source": [
        "# Query the retriever\n",
        "query = \"What is photosynthesis?\"\n",
        "compressed_results = compression_retriever.invoke(query)"
      ]
    },
    {
      "cell_type": "code",
      "execution_count": null,
      "metadata": {
        "colab": {
          "base_uri": "https://localhost:8080/"
        },
        "id": "SyIUYw035g0c",
        "outputId": "99a654d5-9239-4912-fd3e-4130c00b115a"
      },
      "outputs": [
        {
          "name": "stdout",
          "output_type": "stream",
          "text": [
            "\n",
            "--- Result 1 ---\n",
            "Photosynthesis is the process by which green plants convert sunlight into energy.\n",
            "\n",
            "--- Result 2 ---\n",
            "The chlorophyll in plant cells captures sunlight during photosynthesis.\n"
          ]
        }
      ],
      "source": [
        "for i, doc in enumerate(compressed_results):\n",
        "    print(f\"\\n--- Result {i+1} ---\")\n",
        "    print(doc.page_content)\n"
      ]
    }
  ],
  "metadata": {
    "colab": {
      "provenance": []
    },
    "kernelspec": {
      "display_name": "venv",
      "language": "python",
      "name": "python3"
    },
    "language_info": {
      "codemirror_mode": {
        "name": "ipython",
        "version": 3
      },
      "file_extension": ".py",
      "mimetype": "text/x-python",
      "name": "python",
      "nbconvert_exporter": "python",
      "pygments_lexer": "ipython3",
      "version": "3.13.5"
    }
  },
  "nbformat": 4,
  "nbformat_minor": 0
}
